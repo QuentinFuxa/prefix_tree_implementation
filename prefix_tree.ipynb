{
 "cells": [
  {
   "cell_type": "markdown",
   "metadata": {
    "jupyter": {
     "outputs_hidden": true
    }
   },
   "source": [
    "**Digital tree/ Trie implementation and test on cities.csv dataset**"
   ]
  },
  {
   "cell_type": "code",
   "execution_count": 1,
   "metadata": {},
   "outputs": [],
   "source": [
    "from time import time\n",
    "import random\n",
    "import string\n",
    "import pandas as pd\n",
    "import numpy as np\n",
    "import matplotlib.pyplot as plt"
   ]
  },
  {
   "cell_type": "code",
   "execution_count": 2,
   "metadata": {},
   "outputs": [],
   "source": [
    "def random_feed_id(l_cities, stringLength=60, proba_city = 0.75):\n",
    "    \"\"\"Generate a random string of fixed length, with a probability of proba_city of having the name of a city\"\"\"\n",
    "    letters = string.ascii_lowercase\n",
    "    my_str = ''.join(random.choice(letters) for i in range(stringLength))\n",
    "    yes = False\n",
    "    if random.random() > proba_city:\n",
    "        city = l_cities[int(random.random()*len(l_cities))]\n",
    "        beg = int(random.random()*(30-len(city)))\n",
    "        my_str = my_str[:beg] + city +  my_str[beg+len(city)]\n",
    "        yes = True\n",
    "    return my_str\n",
    "\n",
    "csv = pd.read_csv('cities.csv')\n",
    "# In order to test my functions, I use the cities.csv from https://datahub.io/core/world-cities \"world cities\"\n",
    "l_cities = csv['name'].tolist()\n",
    "l_feed_ids = []\n",
    "for i in range(5000):\n",
    "    l_feed_ids.append(random_feed_id(l_cities))"
   ]
  },
  {
   "cell_type": "markdown",
   "metadata": {},
   "source": [
    "### 1 - Naive function :\n",
    "\n",
    "Complexity : O(number of feed_ids * number of cities *  average length of a feed_id) : Indeed, we have two \"for\" loops, and \"if city in feed_id\"  has a complexity in average of O(N), where N is the len of a feed_id"
   ]
  },
  {
   "cell_type": "code",
   "execution_count": 3,
   "metadata": {},
   "outputs": [
    {
     "name": "stdout",
     "output_type": "stream",
     "text": [
      "Time : 12.008142471313477 s\n"
     ]
    }
   ],
   "source": [
    "def detect_city_name_naive(l_cities, l_feed_ids):\n",
    "    l_feed_id_with_city_names_naive = []\n",
    "    for feed_id in l_feed_ids:\n",
    "        for city in l_cities:\n",
    "            if city in feed_id:\n",
    "                l_feed_id_with_city_names_naive.append(feed_id)\n",
    "                break\n",
    "    return l_feed_id_with_city_names_naive\n",
    "\n",
    "beg = time()\n",
    "l_feed_id_with_city_names_naive = detect_city_name_naive(l_cities, l_feed_ids)\n",
    "print('Time :', time() - beg, 's')"
   ]
  },
  {
   "cell_type": "markdown",
   "metadata": {},
   "source": [
    "### 2 - Trie Class :\n",
    "#### 2.a :"
   ]
  },
  {
   "cell_type": "code",
   "execution_count": 4,
   "metadata": {},
   "outputs": [],
   "source": [
    "class TrieNode():\n",
    "    def __init__(self, char):\n",
    "        self.char = char\n",
    "        self.children = []\n",
    "        self.word_finished = False\n",
    "        self.counter = 1\n",
    "    \n",
    "    def child_char(self, char):\n",
    "        for child in self.children:\n",
    "            if char == child.char:\n",
    "                return child\n",
    "        return False\n",
    "\n",
    "class Trie(): \n",
    "    def __init__(self, char = ''):\n",
    "        self.root = TrieNode(char)\n",
    "        self.char_explore = self.root\n",
    "    \n",
    "    def add(self, word):\n",
    "        node = self.root\n",
    "        for char in word:\n",
    "            found_in_child = False\n",
    "            for child in node.children:\n",
    "                if child.char == char:\n",
    "                    child.counter += 1\n",
    "                    node = child\n",
    "                    found_in_child = True\n",
    "                    break\n",
    "            if not found_in_child:\n",
    "                new_node = TrieNode(char)\n",
    "                node.children.append(new_node)\n",
    "                node = new_node\n",
    "        node.word_finished = True\n",
    "\n",
    "    def find(self, prefix: str):\n",
    "        node = self.root\n",
    "        if not node.children:\n",
    "            return False, 0\n",
    "        for char in prefix:\n",
    "            char_not_found = True\n",
    "            for child in node.children:\n",
    "                if child.char == char:\n",
    "                    char_not_found = False\n",
    "                    node = child\n",
    "                    break\n",
    "            if char_not_found:\n",
    "                return False, 0\n",
    "        return True, node.counter"
   ]
  },
  {
   "cell_type": "markdown",
   "metadata": {},
   "source": [
    "#### 2.b :\n",
    "Construction of the trie :"
   ]
  },
  {
   "cell_type": "code",
   "execution_count": 5,
   "metadata": {},
   "outputs": [],
   "source": [
    "new_trie = Trie()\n",
    "for city in l_cities:\n",
    "    new_trie.add(city)"
   ]
  },
  {
   "cell_type": "markdown",
   "metadata": {},
   "source": [
    "The complexity of adding a new word in the trie can be very variable, as we may have to browse all the child characters of a character, or go to the first.\n",
    "And we may need to add a new node for each character in the word, or a new character only for the last character / leaf. According to the publications, the complexity of building a sort of n words is O (n), we can verify this:"
   ]
  },
  {
   "cell_type": "code",
   "execution_count": 6,
   "metadata": {},
   "outputs": [
    {
     "data": {
      "text/plain": [
       "[<matplotlib.lines.Line2D at 0x11d22406608>]"
      ]
     },
     "execution_count": 6,
     "metadata": {},
     "output_type": "execute_result"
    },
    {
     "data": {
      "image/png": "[encoded data removed]",
      "text/plain": [
       "<Figure size 432x288 with 1 Axes>"
      ]
     },
     "metadata": {
      "needs_background": "light"
     },
     "output_type": "display_data"
    }
   ],
   "source": [
    "l_time = []\n",
    "for i in np.linspace(0, len(l_cities), 50):\n",
    "    subl_cities = l_cities[:int(i)]\n",
    "    beg = time()\n",
    "    new_trie = Trie()\n",
    "    for city in subl_cities:\n",
    "        new_trie.add(city)\n",
    "    l_time.append(time() - beg)\n",
    "    \n",
    "plt.plot(np.linspace(0, len(l_cities), 50), l_time)"
   ]
  },
  {
   "cell_type": "markdown",
   "metadata": {},
   "source": [
    "It seems linear. We can imaging that it depends also of the mean of number of char in the words, and that long words increase complexity"
   ]
  },
  {
   "cell_type": "markdown",
   "metadata": {},
   "source": [
    "#### 2.c :"
   ]
  },
  {
   "cell_type": "code",
   "execution_count": 7,
   "metadata": {},
   "outputs": [
    {
     "name": "stdout",
     "output_type": "stream",
     "text": [
      "Time : 1.7712340354919434 s\n"
     ]
    }
   ],
   "source": [
    "def detect_city_name_trie(trie, l_feed_ids):\n",
    "    l_feed_id_with_city_names_trie = []\n",
    "    for feed_id in l_feed_ids:\n",
    "        include_city_name = False\n",
    "        l_nodes = []\n",
    "        for char in feed_id:\n",
    "            l_nodes.append(trie.root)\n",
    "            l_sauv = []\n",
    "            for ind, node in enumerate(l_nodes):\n",
    "                child = node.child_char(char)\n",
    "                if child:\n",
    "                    l_nodes[ind] = child\n",
    "                    l_sauv.append(child)\n",
    "                    if child.word_finished:\n",
    "                            l_feed_id_with_city_names_trie.append(feed_id)\n",
    "                            include_city_name = True\n",
    "                            break\n",
    "            if include_city_name:\n",
    "                break\n",
    "            l_nodes = l_sauv\n",
    "    return l_feed_id_with_city_names_trie\n",
    "\n",
    "\n",
    "beg = time()\n",
    "l_feed_id_with_city_names_trie = detect_city_name_trie(new_trie, l_feed_ids)\n",
    "print('Time :', time() - beg, 's')"
   ]
  },
  {
   "cell_type": "markdown",
   "metadata": {},
   "source": [
    "Complexity in O(nb of feed_ids * average len of feed_id * average number of child per node)"
   ]
  },
  {
   "cell_type": "code",
   "execution_count": 8,
   "metadata": {},
   "outputs": [
    {
     "data": {
      "text/plain": [
       "True"
      ]
     },
     "execution_count": 8,
     "metadata": {},
     "output_type": "execute_result"
    }
   ],
   "source": [
    "# We verify that the two lists are the sames\n",
    "l_feed_id_with_city_names_naive == l_feed_id_with_city_names_trie"
   ]
  },
  {
   "cell_type": "markdown",
   "metadata": {},
   "source": [
    "### Unit tests : "
   ]
  },
  {
   "cell_type": "code",
   "execution_count": 9,
   "metadata": {},
   "outputs": [
    {
     "name": "stdout",
     "output_type": "stream",
     "text": [
      "['aaaaaalondonaaaa', 'aaaaaaaaaalondon', 'londonaaaaaaaaaa']\n",
      "(True, 1)\n",
      "(False, 0)\n"
     ]
    }
   ],
   "source": [
    "one_word_trie = Trie()\n",
    "one_word_trie.add('london')\n",
    "\n",
    "print(detect_city_name_trie(one_word_trie, ['aaaaaaaaaaaaaaaa', 'aaaaaalondonaaaa', 'aaaaaaaaaalondon', 'londonaaaaaaaaaa']))\n",
    "\n",
    "print(one_word_trie.find('london'))\n",
    "print(one_word_trie.find('berlin'))"
   ]
  }
 ],
 "metadata": {
  "kernelspec": {
   "display_name": "Python 3",
   "language": "python",
   "name": "python3"
  },
  "language_info": {
   "codemirror_mode": {
    "name": "ipython",
    "version": 3
   },
   "file_extension": ".py",
   "mimetype": "text/x-python",
   "name": "python",
   "nbconvert_exporter": "python",
   "pygments_lexer": "ipython3",
   "version": "3.7.6"
  }
 },
 "nbformat": 4,
 "nbformat_minor": 4
}
